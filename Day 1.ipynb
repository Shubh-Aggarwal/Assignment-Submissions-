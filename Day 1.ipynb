{
 "cells": [
  {
   "cell_type": "markdown",
   "metadata": {},
   "source": [
    "QUESTION 1"
   ]
  },
  {
   "cell_type": "code",
   "execution_count": 2,
   "metadata": {},
   "outputs": [
    {
     "name": "stdout",
     "output_type": "stream",
     "text": [
      "Enter First Number\n",
      "50\n",
      "Enter Second Number\n",
      "30\n",
      "Addition is  80\n",
      "Subtraction is  20\n",
      "Multiplication is  1500\n",
      "Division is  1.6666666666666667\n"
     ]
    }
   ],
   "source": [
    "print(\"Enter First Number\")\n",
    "a = int(input())\n",
    "print(\"Enter Second Number\")\n",
    "b = int(input())\n",
    "print(\"Addition is \",a+b)\n",
    "print(\"Subtraction is \",a-b)\n",
    "print(\"Multiplication is \",a*b)\n",
    "print(\"Division is \",a/b)"
   ]
  },
  {
   "cell_type": "markdown",
   "metadata": {},
   "source": [
    "QUESTION 2"
   ]
  },
  {
   "cell_type": "code",
   "execution_count": 5,
   "metadata": {},
   "outputs": [
    {
     "name": "stdout",
     "output_type": "stream",
     "text": [
      "Enter First Number\n",
      "2\n",
      "Enter Second Number\n",
      "6\n",
      "Result is  64\n"
     ]
    }
   ],
   "source": [
    "print(\"Enter First Number\")\n",
    "X = int(input())\n",
    "print(\"Enter Second Number\")\n",
    "Y = int(input())\n",
    "print(\"Result is \",X**Y)"
   ]
  },
  {
   "cell_type": "code",
   "execution_count": null,
   "metadata": {},
   "outputs": [],
   "source": []
  }
 ],
 "metadata": {
  "kernelspec": {
   "display_name": "Python 3",
   "language": "python",
   "name": "python3"
  },
  "language_info": {
   "codemirror_mode": {
    "name": "ipython",
    "version": 3
   },
   "file_extension": ".py",
   "mimetype": "text/x-python",
   "name": "python",
   "nbconvert_exporter": "python",
   "pygments_lexer": "ipython3",
   "version": "3.8.5"
  }
 },
 "nbformat": 4,
 "nbformat_minor": 4
}
